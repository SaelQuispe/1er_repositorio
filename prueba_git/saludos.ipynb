{
 "cells": [
  {
   "cell_type": "code",
   "execution_count": null,
   "id": "1bf39b23-1528-47ad-8054-43e327f6433d",
   "metadata": {},
   "outputs": [],
   "source": [
    "Saludos"
   ]
  },
  {
   "cell_type": "code",
   "execution_count": 3,
   "id": "bbae1feb-3150-4ce3-a529-fd10b3768cd6",
   "metadata": {},
   "outputs": [
    {
     "name": "stdout",
     "output_type": "stream",
     "text": [
      "hola\n"
     ]
    }
   ],
   "source": [
    "print(\"hola\")"
   ]
  },
  {
   "cell_type": "code",
   "execution_count": 1,
   "id": "a9104261-9c79-4593-a5a8-97a686216217",
   "metadata": {},
   "outputs": [
    {
     "name": "stdout",
     "output_type": "stream",
     "text": [
      "The history saving thread hit an unexpected error (OperationalError('database or disk is full')).History will not be written to the database.\n"
     ]
    }
   ],
   "source": [
    "b = 125.0\n",
    "c = 390.8\n"
   ]
  },
  {
   "cell_type": "code",
   "execution_count": 2,
   "id": "6821386f-697e-46c1-b4f6-39b831c8489c",
   "metadata": {},
   "outputs": [
    {
     "name": "stdout",
     "output_type": "stream",
     "text": [
      "125\n",
      "390\n"
     ]
    }
   ],
   "source": [
    "print(int(b))\n",
    "print(int(c))"
   ]
  }
 ],
 "metadata": {
  "kernelspec": {
   "display_name": "Python 3 (ipykernel)",
   "language": "python",
   "name": "python3"
  },
  "language_info": {
   "codemirror_mode": {
    "name": "ipython",
    "version": 3
   },
   "file_extension": ".py",
   "mimetype": "text/x-python",
   "name": "python",
   "nbconvert_exporter": "python",
   "pygments_lexer": "ipython3",
   "version": "3.11.5"
  }
 },
 "nbformat": 4,
 "nbformat_minor": 5
}
